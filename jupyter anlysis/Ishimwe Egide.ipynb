{
 "cells": [
  {
   "cell_type": "code",
   "execution_count": 1,
   "id": "adf40522-9e1c-461c-a767-f8a4600dd2fd",
   "metadata": {},
   "outputs": [
    {
     "name": "stdout",
     "output_type": "stream",
     "text": [
      "✅ All libraries imported successfully!\n",
      "📊 Ready to analyze Kigali Transport Data\n"
     ]
    }
   ],
   "source": [
    "# =============================================================================\n",
    "# KIGALI SMART TRANSPORT INSIGHTS: COMPLETE DATA ANALYTICS PROJECT\n",
    "# Project: Optimizing Public Transport Operators Through Data Analytics\n",
    "# Dataset: Rwanda Public Transport Facilities and Operators Dataset\n",
    "# Author: [ishimwe Egide]\n",
    "# Date: August 2025\n",
    "# =============================================================================\n",
    "\n",
    "# =============================================================================\n",
    "# STEP 1: INSTALL AND IMPORT REQUIRED LIBRARIES\n",
    "# =============================================================================\n",
    "\n",
    "# Install required packages (run these in your Jupyter notebook)\n",
    "# !pip install pandas numpy matplotlib seaborn plotly folium scikit-learn\n",
    "# !pip install geopandas contextily\n",
    "\n",
    "import pandas as pd\n",
    "import numpy as np\n",
    "import matplotlib.pyplot as plt\n",
    "import seaborn as sns\n",
    "import plotly.express as px\n",
    "import plotly.graph_objects as go\n",
    "from plotly.subplots import make_subplots\n",
    "import folium\n",
    "from folium import plugins\n",
    "import warnings\n",
    "warnings.filterwarnings('ignore')\n",
    "\n",
    "# Machine Learning libraries\n",
    "from sklearn.cluster import KMeans\n",
    "from sklearn.preprocessing import StandardScaler, LabelEncoder\n",
    "from sklearn.model_selection import train_test_split\n",
    "from sklearn.ensemble import RandomForestClassifier\n",
    "from sklearn.metrics import classification_report, confusion_matrix, accuracy_score\n",
    "from sklearn.metrics import silhouette_score\n",
    "\n",
    "# Set visualization style\n",
    "plt.style.use('seaborn-v0_8')\n",
    "sns.set_palette(\"husl\")\n",
    "\n",
    "print(\"✅ All libraries imported successfully!\")\n",
    "print(\"📊 Ready to analyze Kigali Transport Data\")\n"
   ]
  },
  {
   "cell_type": "code",
   "execution_count": 2,
   "id": "a131e531-a45b-481d-bd97-d3de839a5e11",
   "metadata": {},
   "outputs": [
    {
     "name": "stdout",
     "output_type": "stream",
     "text": [
      "🚌 KIGALI TRANSPORT DATASET LOADED\n",
      "==================================================\n",
      "📈 Dataset Shape: (30, 20)\n",
      "📊 Rows: 30 | Columns: 20\n",
      "\n",
      "🔍 COLUMN INFORMATION:\n",
      "------------------------------\n",
      " 1. REFERENCE_ID\n",
      " 2. OPERATOR_NAME\n",
      " 3. OPERATOR_PHONE\n",
      " 4. EMAIL\n",
      " 5. WEBSITE\n",
      " 6. ADDRESS\n",
      " 7. REGIONS\n",
      " 8. OPERATING_AREA\n",
      " 9. OPERATOR_TYPE\n",
      "10. LOCATION_NAME\n",
      "11. TSN\n",
      "12. LATITUDE\n",
      "13. LONGITUDE\n",
      "14. EFA_ID\n",
      "15. FACILITIES\n",
      "16. ACCESSIBILITY\n",
      "17. TRANSPORT_MODE\n",
      "18. MORNING_PEAK\n",
      "19. AFTERNOON_PEAK\n",
      "20. SHORT_PLATFORM\n",
      "\n",
      "📋 FIRST 3 ROWS PREVIEW:\n",
      "----------------------------------------\n",
      "   REFERENCE_ID            OPERATOR_NAME  OPERATOR_PHONE  \\\n",
      "0        900165  Kimironko Transport Co.    250763131852   \n",
      "1        900181        Green Moto Kigali    250741583857   \n",
      "2        900188        Volcano Taxi Ltd.    250742047250   \n",
      "\n",
      "                                EMAIL                            WEBSITE  \\\n",
      "0  info@centralcoastlimousines.com.au  www.centralcoastlimousines.com.au   \n",
      "1               hirercars4u@gmail.com              www.hirecars4u.com.au   \n",
      "2             info@rwandatransport.rw             www.rwandatransport.rw   \n",
      "\n",
      "                ADDRESS REGIONS OPERATING_AREA OPERATOR_TYPE LOCATION_NAME  \\\n",
      "0     KG 11 Ave, Remera  Gasabo          Ndera      Hire car        Jabana   \n",
      "1     KG 9 Ave, Kacyiru  Gasabo         Jabana      Hire car      Kanyinya   \n",
      "2  KN 2 Ave, Nyarugenge  Gasabo          Nduba          Taxi       Gikondo   \n",
      "\n",
      "     TSN  LATITUDE  LONGITUDE    EFA_ID  \\\n",
      "0  20009 -1.903205  30.061636  10102002   \n",
      "1  20001 -1.922413  30.079874  10102002   \n",
      "2  20133 -1.924148  30.043990  10102002   \n",
      "\n",
      "                                     FACILITIES  \\\n",
      "0  Public Wi-Fi | Charging stations | Restrooms   \n",
      "1  Public Wi-Fi | Charging stations | Restrooms   \n",
      "2   Bike racks | Help point | Timetable display   \n",
      "\n",
      "                                       ACCESSIBILITY TRANSPORT_MODE  \\\n",
      "0  This location is Independent Access | Wheelcha...           Taxi   \n",
      "1  This location is Independent Access | Wheelcha...            Bus   \n",
      "2  This location is Independent Access | Wheelcha...       Mini Bus   \n",
      "\n",
      "  MORNING_PEAK AFTERNOON_PEAK  SHORT_PLATFORM  \n",
      "0           No             No           False  \n",
      "1           No             No            True  \n",
      "2          Yes             No            True  \n",
      "\n",
      "📊 BASIC DATASET INFO:\n",
      "-------------------------\n",
      "<class 'pandas.core.frame.DataFrame'>\n",
      "RangeIndex: 30 entries, 0 to 29\n",
      "Data columns (total 20 columns):\n",
      " #   Column          Non-Null Count  Dtype  \n",
      "---  ------          --------------  -----  \n",
      " 0   REFERENCE_ID    30 non-null     int64  \n",
      " 1   OPERATOR_NAME   30 non-null     object \n",
      " 2   OPERATOR_PHONE  30 non-null     int64  \n",
      " 3   EMAIL           30 non-null     object \n",
      " 4   WEBSITE         30 non-null     object \n",
      " 5   ADDRESS         30 non-null     object \n",
      " 6   REGIONS         30 non-null     object \n",
      " 7   OPERATING_AREA  30 non-null     object \n",
      " 8   OPERATOR_TYPE   30 non-null     object \n",
      " 9   LOCATION_NAME   30 non-null     object \n",
      " 10  TSN             30 non-null     int64  \n",
      " 11  LATITUDE        30 non-null     float64\n",
      " 12  LONGITUDE       30 non-null     float64\n",
      " 13  EFA_ID          30 non-null     int64  \n",
      " 14  FACILITIES      30 non-null     object \n",
      " 15  ACCESSIBILITY   30 non-null     object \n",
      " 16  TRANSPORT_MODE  30 non-null     object \n",
      " 17  MORNING_PEAK    30 non-null     object \n",
      " 18  AFTERNOON_PEAK  30 non-null     object \n",
      " 19  SHORT_PLATFORM  30 non-null     bool   \n",
      "dtypes: bool(1), float64(2), int64(4), object(13)\n",
      "memory usage: 4.6+ KB\n",
      "None\n"
     ]
    }
   ],
   "source": [
    "# =============================================================================\n",
    "# STEP 2: LOAD AND EXPLORE THE DATASET\n",
    "# =============================================================================\n",
    "\n",
    "# Load the dataset\n",
    "df = pd.read_csv('merged_transport_data_rwanda(1).csv')\n",
    "\n",
    "print(\"🚌 KIGALI TRANSPORT DATASET LOADED\")\n",
    "print(\"=\" * 50)\n",
    "print(f\"📈 Dataset Shape: {df.shape}\")\n",
    "print(f\"📊 Rows: {df.shape[0]} | Columns: {df.shape[1]}\")\n",
    "print(\"\\n🔍 COLUMN INFORMATION:\")\n",
    "print(\"-\" * 30)\n",
    "for i, col in enumerate(df.columns, 1):\n",
    "    print(f\"{i:2d}. {col}\")\n",
    "\n",
    "print(\"\\n📋 FIRST 3 ROWS PREVIEW:\")\n",
    "print(\"-\" * 40)\n",
    "print(df.head(3))\n",
    "\n",
    "print(\"\\n📊 BASIC DATASET INFO:\")\n",
    "print(\"-\" * 25)\n",
    "print(df.info())\n"
   ]
  },
  {
   "cell_type": "code",
   "execution_count": 3,
   "id": "ad798efd-6b02-4b03-9007-fbdf124ad26d",
   "metadata": {},
   "outputs": [
    {
     "name": "stdout",
     "output_type": "stream",
     "text": [
      "\n",
      "============================================================\n",
      "🔍 DATA QUALITY ASSESSMENT\n",
      "============================================================\n",
      "\n",
      "📊 MISSING VALUES ANALYSIS:\n",
      "-----------------------------------\n",
      "✅ No missing values found - dataset is clean!\n",
      "\n",
      "📋 DATA TYPES:\n",
      "--------------------\n",
      "REFERENCE_ID        int64\n",
      "OPERATOR_NAME      object\n",
      "OPERATOR_PHONE      int64\n",
      "EMAIL              object\n",
      "WEBSITE            object\n",
      "ADDRESS            object\n",
      "REGIONS            object\n",
      "OPERATING_AREA     object\n",
      "OPERATOR_TYPE      object\n",
      "LOCATION_NAME      object\n",
      "TSN                 int64\n",
      "LATITUDE          float64\n",
      "LONGITUDE         float64\n",
      "EFA_ID              int64\n",
      "FACILITIES         object\n",
      "ACCESSIBILITY      object\n",
      "TRANSPORT_MODE     object\n",
      "MORNING_PEAK       object\n",
      "AFTERNOON_PEAK     object\n",
      "SHORT_PLATFORM       bool\n",
      "dtype: object\n",
      "\n",
      "🔄 DUPLICATE RECORDS: 0\n",
      "\n",
      "📈 NUMERIC COLUMNS STATISTICS:\n",
      "-----------------------------------\n",
      "        REFERENCE_ID  OPERATOR_PHONE           TSN   LATITUDE  LONGITUDE  \\\n",
      "count      30.000000    3.000000e+01     30.000000  30.000000  30.000000   \n",
      "mean   900505.966667    2.507521e+11  20025.466667  -1.932819  30.074698   \n",
      "std       270.866360    2.876202e+07     49.497289   0.017198   0.021803   \n",
      "min    900165.000000    2.507042e+11  20000.000000  -1.962830  30.043990   \n",
      "25%    900231.750000    2.507361e+11  20009.000000  -1.947751  30.053740   \n",
      "50%    900482.500000    2.507533e+11  20009.000000  -1.929210  30.077652   \n",
      "75%    900805.250000    2.507768e+11  20009.000000  -1.922471  30.088700   \n",
      "max    900869.000000    2.507946e+11  20234.000000  -1.903205  30.115512   \n",
      "\n",
      "             EFA_ID  \n",
      "count  3.000000e+01  \n",
      "mean   1.010200e+07  \n",
      "std    3.505424e+01  \n",
      "min    1.010181e+07  \n",
      "25%    1.010200e+07  \n",
      "50%    1.010200e+07  \n",
      "75%    1.010200e+07  \n",
      "max    1.010200e+07  \n",
      "\n",
      "✅ DATA QUALITY CHECK COMPLETED!\n"
     ]
    }
   ],
   "source": [
    "# =============================================================================\n",
    "# STEP 3: DATA QUALITY ASSESSMENT\n",
    "# =============================================================================\n",
    "\n",
    "print(\"\\n\" + \"=\" * 60)\n",
    "print(\"🔍 DATA QUALITY ASSESSMENT\")\n",
    "print(\"=\" * 60)\n",
    "\n",
    "# Check for missing values\n",
    "missing_values = df.isnull().sum()\n",
    "print(\"\\n📊 MISSING VALUES ANALYSIS:\")\n",
    "print(\"-\" * 35)\n",
    "if missing_values.sum() == 0:\n",
    "    print(\"✅ No missing values found - dataset is clean!\")\n",
    "else:\n",
    "    print(missing_values[missing_values > 0])\n",
    "\n",
    "# Check data types\n",
    "print(\"\\n📋 DATA TYPES:\")\n",
    "print(\"-\" * 20)\n",
    "print(df.dtypes)\n",
    "\n",
    "# Check for duplicates\n",
    "duplicates = df.duplicated().sum()\n",
    "print(f\"\\n🔄 DUPLICATE RECORDS: {duplicates}\")\n",
    "\n",
    "# Basic statistics for numeric columns\n",
    "numeric_cols = df.select_dtypes(include=[np.number]).columns\n",
    "if len(numeric_cols) > 0:\n",
    "    print(\"\\n📈 NUMERIC COLUMNS STATISTICS:\")\n",
    "    print(\"-\" * 35)\n",
    "    print(df[numeric_cols].describe())\n",
    "\n",
    "print(\"\\n✅ DATA QUALITY CHECK COMPLETED!\")"
   ]
  },
  {
   "cell_type": "code",
   "execution_count": 4,
   "id": "1c73422f-cf7e-406a-a4a5-48f728fc250d",
   "metadata": {},
   "outputs": [
    {
     "name": "stdout",
     "output_type": "stream",
     "text": [
      "\n",
      "============================================================\n",
      "📊 EXPLORATORY DATA ANALYSIS (EDA)\n",
      "============================================================\n"
     ]
    },
    {
     "data": {
      "image/png": "[encoded data removed]",
      "text/plain": [
       "<Figure size 1500x1200 with 4 Axes>"
      ]
     },
     "metadata": {},
     "output_type": "display_data"
    }
   ],
   "source": [
    "# =============================================================================\n",
    "# STEP 4: EXPLORATORY DATA ANALYSIS (EDA)\n",
    "# =============================================================================\n",
    "\n",
    "print(\"\\n\" + \"=\" * 60)\n",
    "print(\"📊 EXPLORATORY DATA ANALYSIS (EDA)\")\n",
    "print(\"=\" * 60)\n",
    "\n",
    "# Create figure for multiple subplots\n",
    "fig, axes = plt.subplots(2, 2, figsize=(15, 12))\n",
    "fig.suptitle('🚌 Kigali Transport Operators - Key Insights Dashboard', fontsize=16, fontweight='bold')\n",
    "\n",
    "# 1. Operator Type Distribution\n",
    "operator_counts = df['OPERATOR_TYPE'].value_counts()\n",
    "axes[0, 0].pie(operator_counts.values, labels=operator_counts.index, autopct='%1.1f%%', startangle=90)\n",
    "axes[0, 0].set_title('🚗 Distribution of Operator Types')\n",
    "\n",
    "# 2. Regional Distribution\n",
    "region_counts = df['REGIONS'].value_counts()\n",
    "axes[0, 1].bar(region_counts.index, region_counts.values, color='skyblue')\n",
    "axes[0, 1].set_title('🗺️ Operators by Region')\n",
    "axes[0, 1].set_xlabel('Region')\n",
    "axes[0, 1].set_ylabel('Number of Operators')\n",
    "axes[0, 1].tick_params(axis='x', rotation=45)\n",
    "\n",
    "# 3. Transport Mode Analysis\n",
    "transport_mode_counts = df['TRANSPORT_MODE'].value_counts()\n",
    "axes[1, 0].barh(transport_mode_counts.index, transport_mode_counts.values, color='lightgreen')\n",
    "axes[1, 0].set_title('🚌 Transport Modes Distribution')\n",
    "axes[1, 0].set_xlabel('Number of Operators')\n",
    "\n",
    "# 4. Peak Time Operations\n",
    "peak_data = pd.DataFrame({\n",
    "    'Morning Peak': df['MORNING_PEAK'].value_counts(),\n",
    "    'Afternoon Peak': df['AFTERNOON_PEAK'].value_counts()\n",
    "})\n",
    "peak_data.plot(kind='bar', ax=axes[1, 1], color=['orange', 'red'])\n",
    "axes[1, 1].set_title('⏰ Peak Time Operations')\n",
    "axes[1, 1].set_xlabel('Operation Status')\n",
    "axes[1, 1].set_ylabel('Number of Operators')\n",
    "axes[1, 1].legend()\n",
    "\n",
    "plt.tight_layout()\n",
    "plt.show()"
   ]
  },
  {
   "cell_type": "code",
   "execution_count": 5,
   "id": "76e8c18c-6ef1-43f1-b93a-4e48d633d73c",
   "metadata": {},
   "outputs": [
    {
     "name": "stdout",
     "output_type": "stream",
     "text": [
      "\n",
      "📊 CREATING INTERACTIVE VISUALIZATIONS...\n",
      "✅ Interactive map saved as 'kigali_transport_operators_map.html'\n"
     ]
    }
   ],
   "source": [
    "# =============================================================================\n",
    "# STEP 5: INTERACTIVE VISUALIZATIONS WITH PLOTLY\n",
    "# =============================================================================\n",
    "\n",
    "print(\"\\n📊 CREATING INTERACTIVE VISUALIZATIONS...\")\n",
    "\n",
    "# Interactive map of operators in Kigali\n",
    "def create_kigali_transport_map():\n",
    "    \"\"\"Create an interactive map showing transport operators in Kigali\"\"\"\n",
    "    \n",
    "    # Filter valid coordinates (assuming Kigali coordinates)\n",
    "    map_data = df.dropna(subset=['LATITUDE', 'LONGITUDE'])\n",
    "    \n",
    "    # Create base map centered on Kigali\n",
    "    kigali_map = folium.Map(\n",
    "        location=[-1.9441, 30.0619],  # Kigali coordinates\n",
    "        zoom_start=12,\n",
    "        tiles='OpenStreetMap'\n",
    "    )\n",
    "    \n",
    "    # Color mapping for operator types\n",
    "    colors = {'Taxi': 'red', 'Hire car': 'blue', 'Bus': 'green', 'Motorcycle': 'orange'}\n",
    "    \n",
    "    # Add markers for each operator\n",
    "    for idx, row in map_data.iterrows():\n",
    "        color = colors.get(row['OPERATOR_TYPE'], 'gray')\n",
    "        \n",
    "        folium.CircleMarker(\n",
    "            location=[row['LATITUDE'], row['LONGITUDE']],\n",
    "            radius=8,\n",
    "            popup=f\"\"\"\n",
    "            <b>{row['OPERATOR_NAME']}</b><br>\n",
    "            Type: {row['OPERATOR_TYPE']}<br>\n",
    "            Region: {row['REGIONS']}<br>\n",
    "            Phone: {row['OPERATOR_PHONE']}<br>\n",
    "            Operating Area: {row['OPERATING_AREA']}\n",
    "            \"\"\",\n",
    "            color=color,\n",
    "            fill=True,\n",
    "            fillColor=color,\n",
    "            fillOpacity=0.7\n",
    "        ).add_to(kigali_map)\n",
    "    \n",
    "    # Add legend\n",
    "    legend_html = '''\n",
    "    <div style=\"position: fixed; \n",
    "                bottom: 50px; left: 50px; width: 150px; height: 120px; \n",
    "                background-color: white; border:2px solid grey; z-index:9999; \n",
    "                font-size:14px; padding: 10px\">\n",
    "    <p><b>🚌 Operator Types</b></p>\n",
    "    <p><i class=\"fa fa-circle\" style=\"color:red\"></i> Taxi</p>\n",
    "    <p><i class=\"fa fa-circle\" style=\"color:blue\"></i> Hire Car</p>\n",
    "    <p><i class=\"fa fa-circle\" style=\"color:green\"></i> Bus</p>\n",
    "    <p><i class=\"fa fa-circle\" style=\"color:orange\"></i> Motorcycle</p>\n",
    "    </div>\n",
    "    '''\n",
    "    kigali_map.get_root().html.add_child(folium.Element(legend_html))\n",
    "    \n",
    "    return kigali_map\n",
    "\n",
    "# Create and display the map\n",
    "transport_map = create_kigali_transport_map()\n",
    "transport_map.save('kigali_transport_operators_map.html')\n",
    "print(\"✅ Interactive map saved as 'kigali_transport_operators_map.html'\")"
   ]
  },
  {
   "cell_type": "code",
   "execution_count": 6,
   "id": "90a0b560-a5dc-4dd7-98cc-e1e2dea4f1fc",
   "metadata": {},
   "outputs": [
    {
     "name": "stdout",
     "output_type": "stream",
     "text": [
      "\n",
      "============================================================\n",
      "📈 KEY STATISTICS SUMMARY\n",
      "============================================================\n",
      "🚌 Total Transport Operators: 30\n",
      "🗺️ Operating Regions: 3\n",
      "🚗 Types of Operators: 5\n",
      "🌅 Morning Peak Operators: 12\n",
      "🌆 Afternoon Peak Operators: 15\n",
      "\n",
      "📊 TOP 5 OPERATORS BY TYPE:\n",
      "-----------------------------------\n",
      "OPERATOR_TYPE\n",
      "Taxi                   14\n",
      "Hire car               13\n",
      "Regular bus             1\n",
      "Hire car, Taxi          1\n",
      "Community transport     1\n",
      "Name: count, dtype: int64\n",
      "\n",
      "🗺️ REGIONAL DISTRIBUTION:\n",
      "-------------------------\n",
      "REGIONS\n",
      "Gasabo        16\n",
      "Nyarugenge     8\n",
      "Kicukiro       6\n",
      "Name: count, dtype: int64\n",
      "\n",
      "🚌 TRANSPORT MODE ANALYSIS:\n",
      "------------------------------\n",
      "TRANSPORT_MODE\n",
      "Mini Bus    9\n",
      "Bus         8\n",
      "E-Bike      5\n",
      "Moto        4\n",
      "Taxi        2\n",
      "Bicycle     2\n",
      "Name: count, dtype: int64\n"
     ]
    }
   ],
   "source": [
    "# =============================================================================\n",
    "# STEP 6: KEY STATISTICS SUMMARY\n",
    "# =============================================================================\n",
    "\n",
    "print(\"\\n\" + \"=\" * 60)\n",
    "print(\"📈 KEY STATISTICS SUMMARY\")\n",
    "print(\"=\" * 60)\n",
    "\n",
    "# Calculate key statistics\n",
    "total_operators = len(df)\n",
    "unique_regions = df['REGIONS'].nunique()\n",
    "unique_operator_types = df['OPERATOR_TYPE'].nunique()\n",
    "morning_peak_operators = df['MORNING_PEAK'].value_counts().get('Yes', 0)\n",
    "afternoon_peak_operators = df['AFTERNOON_PEAK'].value_counts().get('Yes', 0)\n",
    "\n",
    "print(f\"🚌 Total Transport Operators: {total_operators}\")\n",
    "print(f\"🗺️ Operating Regions: {unique_regions}\")\n",
    "print(f\"🚗 Types of Operators: {unique_operator_types}\")\n",
    "print(f\"🌅 Morning Peak Operators: {morning_peak_operators}\")\n",
    "print(f\"🌆 Afternoon Peak Operators: {afternoon_peak_operators}\")\n",
    "\n",
    "print(\"\\n📊 TOP 5 OPERATORS BY TYPE:\")\n",
    "print(\"-\" * 35)\n",
    "print(df['OPERATOR_TYPE'].value_counts().head())\n",
    "\n",
    "print(\"\\n🗺️ REGIONAL DISTRIBUTION:\")\n",
    "print(\"-\" * 25)\n",
    "print(df['REGIONS'].value_counts())\n",
    "\n",
    "print(\"\\n🚌 TRANSPORT MODE ANALYSIS:\")\n",
    "print(\"-\" * 30)\n",
    "print(df['TRANSPORT_MODE'].value_counts())"
   ]
  },
  {
   "cell_type": "code",
   "execution_count": 7,
   "id": "bf63c565-08c4-495a-af88-c79da83db481",
   "metadata": {},
   "outputs": [
    {
     "name": "stdout",
     "output_type": "stream",
     "text": [
      "\n",
      "============================================================\n",
      "🤖 MACHINE LEARNING ANALYSIS\n",
      "============================================================\n",
      "🔄 Preparing data for machine learning...\n",
      "✅ Selected features for analysis: ['LATITUDE', 'LONGITUDE', 'REGIONS_ENCODED', 'OPERATING_AREA_ENCODED', 'PEAK_OPERATIONS']\n"
     ]
    }
   ],
   "source": [
    "# =============================================================================\n",
    "# STEP 7: MACHINE LEARNING ANALYSIS\n",
    "# =============================================================================\n",
    "\n",
    "print(\"\\n\" + \"=\" * 60)\n",
    "print(\"🤖 MACHINE LEARNING ANALYSIS\")\n",
    "print(\"=\" * 60)\n",
    "\n",
    "# Prepare data for machine learning\n",
    "print(\"🔄 Preparing data for machine learning...\")\n",
    "\n",
    "# Create a copy for ML processing\n",
    "ml_df = df.copy()\n",
    "\n",
    "# Feature Engineering\n",
    "# Create binary features for peak operations\n",
    "ml_df['PEAK_OPERATIONS'] = ((ml_df['MORNING_PEAK'] == 'Yes') | (ml_df['AFTERNOON_PEAK'] == 'Yes')).astype(int)\n",
    "\n",
    "# Encode categorical variables\n",
    "label_encoders = {}\n",
    "categorical_columns = ['REGIONS', 'OPERATING_AREA', 'TRANSPORT_MODE']\n",
    "\n",
    "for col in categorical_columns:\n",
    "    if col in ml_df.columns:\n",
    "        le = LabelEncoder()\n",
    "        ml_df[f'{col}_ENCODED'] = le.fit_transform(ml_df[col].astype(str))\n",
    "        label_encoders[col] = le\n",
    "\n",
    "# Select features for clustering (focusing on location and operation type)\n",
    "clustering_features = []\n",
    "if 'LATITUDE' in ml_df.columns and 'LONGITUDE' in ml_df.columns:\n",
    "    clustering_features.extend(['LATITUDE', 'LONGITUDE'])\n",
    "if 'REGIONS_ENCODED' in ml_df.columns:\n",
    "    clustering_features.append('REGIONS_ENCODED')\n",
    "if 'OPERATING_AREA_ENCODED' in ml_df.columns:\n",
    "    clustering_features.append('OPERATING_AREA_ENCODED')\n",
    "if 'PEAK_OPERATIONS' in ml_df.columns:\n",
    "    clustering_features.append('PEAK_OPERATIONS')\n",
    "\n",
    "print(f\"✅ Selected features for analysis: {clustering_features}\")\n"
   ]
  },
  {
   "cell_type": "code",
   "execution_count": 8,
   "id": "5e030cbf-d7a3-4bce-962c-8e77663c64c9",
   "metadata": {},
   "outputs": [
    {
     "name": "stdout",
     "output_type": "stream",
     "text": [
      "\n",
      "🎯 PERFORMING K-MEANS CLUSTERING ANALYSIS\n",
      "---------------------------------------------\n"
     ]
    },
    {
     "data": {
      "image/png": "[encoded data removed]",
      "text/plain": [
       "<Figure size 1200x500 with 2 Axes>"
      ]
     },
     "metadata": {},
     "output_type": "display_data"
    },
    {
     "name": "stdout",
     "output_type": "stream",
     "text": [
      "✅ K-Means clustering completed with k=4\n",
      "📊 Silhouette Score: 0.244\n",
      "\n",
      "🎯 CLUSTER ANALYSIS:\n",
      "-------------------------\n",
      "         Operators_Count Dominant_Region Dominant_Type  Avg_Peak_Operations\n",
      "CLUSTER                                                                    \n",
      "0.0                    8          Gasabo          Taxi                1.000\n",
      "1.0                    6          Gasabo      Hire car                0.000\n",
      "2.0                    7      Nyarugenge      Hire car                0.429\n",
      "3.0                    9          Gasabo          Taxi                1.000\n"
     ]
    }
   ],
   "source": [
    "# =============================================================================\n",
    "# STEP 8: K-MEANS CLUSTERING ANALYSIS\n",
    "# =============================================================================\n",
    "\n",
    "if len(clustering_features) >= 2:\n",
    "    print(\"\\n🎯 PERFORMING K-MEANS CLUSTERING ANALYSIS\")\n",
    "    print(\"-\" * 45)\n",
    "    \n",
    "    # Prepare clustering data\n",
    "    X_cluster = ml_df[clustering_features].dropna()\n",
    "    \n",
    "    # Standardize features\n",
    "    scaler = StandardScaler()\n",
    "    X_scaled = scaler.fit_transform(X_cluster)\n",
    "    \n",
    "    # Find optimal number of clusters using elbow method\n",
    "    inertias = []\n",
    "    silhouette_scores = []\n",
    "    k_range = range(2, 8)\n",
    "    \n",
    "    for k in k_range:\n",
    "        kmeans = KMeans(n_clusters=k, random_state=42, n_init=10)\n",
    "        kmeans.fit(X_scaled)\n",
    "        inertias.append(kmeans.inertia_)\n",
    "        silhouette_scores.append(silhouette_score(X_scaled, kmeans.labels_))\n",
    "    \n",
    "    # Plot elbow curve\n",
    "    plt.figure(figsize=(12, 5))\n",
    "    \n",
    "    plt.subplot(1, 2, 1)\n",
    "    plt.plot(k_range, inertias, 'bo-')\n",
    "    plt.xlabel('Number of Clusters (k)')\n",
    "    plt.ylabel('Inertia')\n",
    "    plt.title('🔍 Elbow Method for Optimal k')\n",
    "    plt.grid(True)\n",
    "    \n",
    "    plt.subplot(1, 2, 2)\n",
    "    plt.plot(k_range, silhouette_scores, 'ro-')\n",
    "    plt.xlabel('Number of Clusters (k)')\n",
    "    plt.ylabel('Silhouette Score')\n",
    "    plt.title('📊 Silhouette Score Analysis')\n",
    "    plt.grid(True)\n",
    "    \n",
    "    plt.tight_layout()\n",
    "    plt.show()\n",
    "    \n",
    "    # Use optimal k (let's use k=4 for this analysis)\n",
    "    optimal_k = 4\n",
    "    kmeans = KMeans(n_clusters=optimal_k, random_state=42, n_init=10)\n",
    "    cluster_labels = kmeans.fit_predict(X_scaled)\n",
    "    \n",
    "    # Add cluster labels to dataframe\n",
    "    ml_df.loc[X_cluster.index, 'CLUSTER'] = cluster_labels\n",
    "    \n",
    "    print(f\"✅ K-Means clustering completed with k={optimal_k}\")\n",
    "    print(f\"📊 Silhouette Score: {silhouette_score(X_scaled, cluster_labels):.3f}\")\n",
    "    \n",
    "    # Analyze clusters\n",
    "    print(\"\\n🎯 CLUSTER ANALYSIS:\")\n",
    "    print(\"-\" * 25)\n",
    "    cluster_summary = ml_df.groupby('CLUSTER').agg({\n",
    "        'OPERATOR_NAME': 'count',\n",
    "        'REGIONS': lambda x: x.mode().iloc[0] if not x.empty else 'Unknown',\n",
    "        'OPERATOR_TYPE': lambda x: x.mode().iloc[0] if not x.empty else 'Unknown',\n",
    "        'PEAK_OPERATIONS': 'mean'\n",
    "    }).round(3)\n",
    "    \n",
    "    cluster_summary.columns = ['Operators_Count', 'Dominant_Region', 'Dominant_Type', 'Avg_Peak_Operations']\n",
    "    print(cluster_summary)\n"
   ]
  },
  {
   "cell_type": "code",
   "execution_count": 10,
   "id": "e7e27db0-82d0-4346-a7d9-e372cfff2f4d",
   "metadata": {},
   "outputs": [
    {
     "name": "stdout",
     "output_type": "stream",
     "text": [
      "\n",
      "🎯 BUILDING CLASSIFICATION MODEL\n",
      "-----------------------------------\n",
      "🎯 Model Accuracy: 0.667\n",
      "\n",
      "📊 CLASSIFICATION REPORT:\n",
      "------------------------------\n",
      "              precision    recall  f1-score   support\n",
      "\n",
      "    Hire car       0.67      0.50      0.57         4\n",
      "        Taxi       0.67      0.80      0.73         5\n",
      "\n",
      "    accuracy                           0.67         9\n",
      "   macro avg       0.67      0.65      0.65         9\n",
      "weighted avg       0.67      0.67      0.66         9\n",
      "\n",
      "\n",
      "🔍 FEATURE IMPORTANCE:\n",
      "-------------------------\n",
      "                  Feature  Importance\n",
      "1  OPERATING_AREA_ENCODED    0.540020\n",
      "2  TRANSPORT_MODE_ENCODED    0.234191\n",
      "0         REGIONS_ENCODED    0.150968\n",
      "3         PEAK_OPERATIONS    0.074821\n"
     ]
    },
    {
     "data": {
      "image/png": "[encoded data removed]",
      "text/plain": [
       "<Figure size 1000x600 with 1 Axes>"
      ]
     },
     "metadata": {},
     "output_type": "display_data"
    }
   ],
   "source": [
    "# =============================================================================\n",
    "# STEP 9: CLASSIFICATION MODEL FOR OPERATOR TYPE PREDICTION\n",
    "# =============================================================================\n",
    "\n",
    "print(\"\\n🎯 BUILDING CLASSIFICATION MODEL\")\n",
    "print(\"-\" * 35)\n",
    "\n",
    "# Prepare features for classification\n",
    "classification_features = []\n",
    "if 'REGIONS_ENCODED' in ml_df.columns:\n",
    "    classification_features.append('REGIONS_ENCODED')\n",
    "if 'OPERATING_AREA_ENCODED' in ml_df.columns:\n",
    "    classification_features.append('OPERATING_AREA_ENCODED')\n",
    "if 'TRANSPORT_MODE_ENCODED' in ml_df.columns:\n",
    "    classification_features.append('TRANSPORT_MODE_ENCODED')\n",
    "if 'PEAK_OPERATIONS' in ml_df.columns:\n",
    "    classification_features.append('PEAK_OPERATIONS')\n",
    "\n",
    "if len(classification_features) >= 2:\n",
    "    # Prepare data\n",
    "    X = ml_df[classification_features].dropna()\n",
    "    y = ml_df.loc[X.index, 'OPERATOR_TYPE']\n",
    "\n",
    "    # ⚠️ Filter out rare classes with only 1 instance\n",
    "    value_counts = y.value_counts()\n",
    "    valid_classes = value_counts[value_counts >= 2].index\n",
    "    mask = y.isin(valid_classes)\n",
    "\n",
    "    X = X[mask]\n",
    "    y = y[mask]\n",
    "\n",
    "    # Split data\n",
    "    X_train, X_test, y_train, y_test = train_test_split(\n",
    "        X, y, test_size=0.3, random_state=42, stratify=y\n",
    "    )\n",
    "\n",
    "    # Train Random Forest model\n",
    "    rf_model = RandomForestClassifier(n_estimators=100, random_state=42)\n",
    "    rf_model.fit(X_train, y_train)\n",
    "\n",
    "    # Make predictions\n",
    "    y_pred = rf_model.predict(X_test)\n",
    "\n",
    "    # Evaluate model\n",
    "    accuracy = accuracy_score(y_test, y_pred)\n",
    "    print(f\"🎯 Model Accuracy: {accuracy:.3f}\")\n",
    "\n",
    "    print(\"\\n📊 CLASSIFICATION REPORT:\")\n",
    "    print(\"-\" * 30)\n",
    "    print(classification_report(y_test, y_pred))\n",
    "\n",
    "    # Feature importance\n",
    "    feature_importance = pd.DataFrame({\n",
    "        'Feature': classification_features,\n",
    "        'Importance': rf_model.feature_importances_\n",
    "    }).sort_values('Importance', ascending=False)\n",
    "\n",
    "    print(\"\\n🔍 FEATURE IMPORTANCE:\")\n",
    "    print(\"-\" * 25)\n",
    "    print(feature_importance)\n",
    "\n",
    "    # Plot feature importance\n",
    "    plt.figure(figsize=(10, 6))\n",
    "    sns.barplot(data=feature_importance, x='Importance', y='Feature', palette='viridis')\n",
    "    plt.title('🔍 Feature Importance for Operator Type Prediction')\n",
    "    plt.xlabel('Importance Score')\n",
    "    plt.tight_layout()\n",
    "    plt.show()\n",
    "else:\n",
    "    print(\"⚠️ Not enough features available for classification.\")\n"
   ]
  },
  {
   "cell_type": "code",
   "execution_count": 11,
   "id": "098dbca0-e08b-464b-adf5-f201d9f4abbb",
   "metadata": {},
   "outputs": [
    {
     "name": "stdout",
     "output_type": "stream",
     "text": [
      "\n",
      "📊 CREATING ADVANCED VISUALIZATIONS...\n"
     ]
    },
    {
     "data": {
      "application/vnd.plotly.v1+json": {
       "config": {
        "plotlyServerURL": "https://plot.ly"
       },
       "data": [
        {
         "domain": {
          "x": [
           0,
           0.45
          ],
          "y": [
           0.625,
           1
          ]
         },
         "labels": [
          "Gasabo",
          "Nyarugenge",
          "Kicukiro"
         ],
         "name": "Regions",
         "type": "pie",
         "values": {
          "bdata": "EAgG",
          "dtype": "i1"
         }
        },
        {
         "marker": {
          "color": "lightblue"
         },
         "name": "Morning Peak",
         "type": "bar",
         "x": [
          "No",
          "Yes"
         ],
         "xaxis": "x",
         "y": {
          "bdata": "Egw=",
          "dtype": "i1"
         },
         "yaxis": "y"
        },
        {
         "marker": {
          "color": "darkblue"
         },
         "name": "Afternoon Peak",
         "type": "bar",
         "x": [
          "No",
          "Yes"
         ],
         "xaxis": "x",
         "y": {
          "bdata": "Dw8=",
          "dtype": "i1"
         },
         "yaxis": "y"
        },
        {
         "marker": {
          "color": "green"
         },
         "name": "Transport Modes",
         "type": "bar",
         "x": [
          "Mini Bus",
          "Bus",
          "E-Bike",
          "Moto",
          "Taxi",
          "Bicycle"
         ],
         "xaxis": "x2",
         "y": {
          "bdata": "CQgFBAIC",
          "dtype": "i1"
         },
         "yaxis": "y2"
        },
        {
         "marker": {
          "color": "red",
          "opacity": 0.7,
          "size": 8
         },
         "mode": "markers",
         "name": "Operator Locations",
         "type": "scatter",
         "x": {
          "bdata": "mkF8YMcPPkD7zFmfchQ+QN5Zu+1CCz5AA1yQLcsPPkAc0NIVbAs+QOVgNgGGFT5AD0WBPpELPkBA/Pz34BU+QBDs+C8QDD5AQBh47j0YPkCpS8Yxkh0+QH5S7dPxFD5AhgMhWcAUPkAva2KBrxA+QAEUI0vmGD5AxEKtad4ZPkBEUgslkxs+QBsN4C2QDD5AQYF38ukVPkA5X+y9+BY+QJG4x9KHEj5AspsZ/WgYPkDNzMzMzAw+QM+7saAwED5AmN7+XDQMPkCygXSxaR0+QGCQ9GkVDT5AETroEg4RPkCEK6BQTxM+QKw6qwX2FD5A",
          "dtype": "f8"
         },
         "xaxis": "x3",
         "y": {
          "bdata": "wVYJFodz/r/le0YiNML+v/WeymlPyf6/hXe5iO/E/r+M9nghHd7+v/NXyFwZlP6/Z7Yr9MEy/78/kLxzKMP+v9emsb0W9P6/eSPzyB/M/r9N+RBUjR7/v6A01CgkWf+/okJ1c/G3/r8PuRluwGf/v+Pg0jHnmf6/bmjKTj+o/r+T36KTpVb/v9E96xotx/6/djdPdchN/7+m8QuvJPn+v6ncRC3NLf+/d/cA3Zdz/r/SVbq7zkb/vwb0wp0Lo/6/CcGqevnd/r9rSrIORxf/vyi1F9F2zP6/NLxZg/cV/78sDfyohv3+v1H51/LKNf+/",
          "dtype": "f8"
         },
         "yaxis": "y3"
        }
       ],
       "layout": {
        "annotations": [
         {
          "font": {
           "size": 16
          },
          "showarrow": false,
          "text": "🗺️ Regional Distribution",
          "x": 0.225,
          "xanchor": "center",
          "xref": "paper",
          "y": 1,
          "yanchor": "bottom",
          "yref": "paper"
         },
         {
          "font": {
           "size": 16
          },
          "showarrow": false,
          "text": "⏰ Peak Operations",
          "x": 0.775,
          "xanchor": "center",
          "xref": "paper",
          "y": 1,
          "yanchor": "bottom",
          "yref": "paper"
         },
         {
          "font": {
           "size": 16
          },
          "showarrow": false,
          "text": "🚌 Transport Modes",
          "x": 0.225,
          "xanchor": "center",
          "xref": "paper",
          "y": 0.375,
          "yanchor": "bottom",
          "yref": "paper"
         },
         {
          "font": {
           "size": 16
          },
          "showarrow": false,
          "text": "📊 Operator Performance",
          "x": 0.775,
          "xanchor": "center",
          "xref": "paper",
          "y": 0.375,
          "yanchor": "bottom",
          "yref": "paper"
         }
        ],
        "height": 800,
        "showlegend": true,
        "template": {
         "data": {
          "bar": [
           {
            "error_x": {
             "color": "#2a3f5f"
            },
            "error_y": {
             "color": "#2a3f5f"
            },
            "marker": {
             "line": {
              "color": "#E5ECF6",
              "width": 0.5
             },
             "pattern": {
              "fillmode": "overlay",
              "size": 10,
              "solidity": 0.2
             }
            },
            "type": "bar"
           }
          ],
          "barpolar": [
           {
            "marker": {
             "line": {
              "color": "#E5ECF6",
              "width": 0.5
             },
             "pattern": {
              "fillmode": "overlay",
              "size": 10,
              "solidity": 0.2
             }
            },
            "type": "barpolar"
           }
          ],
          "carpet": [
           {
            "aaxis": {
             "endlinecolor": "#2a3f5f",
             "gridcolor": "white",
             "linecolor": "white",
             "minorgridcolor": "white",
             "startlinecolor": "#2a3f5f"
            },
            "baxis": {
             "endlinecolor": "#2a3f5f",
             "gridcolor": "white",
             "linecolor": "white",
             "minorgridcolor": "white",
             "startlinecolor": "#2a3f5f"
            },
            "type": "carpet"
           }
          ],
          "choropleth": [
           {
            "colorbar": {
             "outlinewidth": 0,
             "ticks": ""
            },
            "type": "choropleth"
           }
          ],
          "contour": [
           {
            "colorbar": {
             "outlinewidth": 0,
             "ticks": ""
            },
            "colorscale": [
             [
              0,
              "#0d0887"
             ],
             [
              0.1111111111111111,
              "#46039f"
             ],
             [
              0.2222222222222222,
              "#7201a8"
             ],
             [
              0.3333333333333333,
              "#9c179e"
             ],
             [
              0.4444444444444444,
              "#bd3786"
             ],
             [
              0.5555555555555556,
              "#d8576b"
             ],
             [
              0.6666666666666666,
              "#ed7953"
             ],
             [
              0.7777777777777778,
              "#fb9f3a"
             ],
             [
              0.8888888888888888,
              "#fdca26"
             ],
             [
              1,
              "#f0f921"
             ]
            ],
            "type": "contour"
           }
          ],
          "contourcarpet": [
           {
            "colorbar": {
             "outlinewidth": 0,
             "ticks": ""
            },
            "type": "contourcarpet"
           }
          ],
          "heatmap": [
           {
            "colorbar": {
             "outlinewidth": 0,
             "ticks": ""
            },
            "colorscale": [
             [
              0,
              "#0d0887"
             ],
             [
              0.1111111111111111,
              "#46039f"
             ],
             [
              0.2222222222222222,
              "#7201a8"
             ],
             [
              0.3333333333333333,
              "#9c179e"
             ],
             [
              0.4444444444444444,
              "#bd3786"
             ],
             [
              0.5555555555555556,
              "#d8576b"
             ],
             [
              0.6666666666666666,
              "#ed7953"
             ],
             [
              0.7777777777777778,
              "#fb9f3a"
             ],
             [
              0.8888888888888888,
              "#fdca26"
             ],
             [
              1,
              "#f0f921"
             ]
            ],
            "type": "heatmap"
           }
          ],
          "histogram": [
           {
            "marker": {
             "pattern": {
              "fillmode": "overlay",
              "size": 10,
              "solidity": 0.2
             }
            },
            "type": "histogram"
           }
          ],
          "histogram2d": [
           {
            "colorbar": {
             "outlinewidth": 0,
             "ticks": ""
            },
            "colorscale": [
             [
              0,
              "#0d0887"
             ],
             [
              0.1111111111111111,
              "#46039f"
             ],
             [
              0.2222222222222222,
              "#7201a8"
             ],
             [
              0.3333333333333333,
              "#9c179e"
             ],
             [
              0.4444444444444444,
              "#bd3786"
             ],
             [
              0.5555555555555556,
              "#d8576b"
             ],
             [
              0.6666666666666666,
              "#ed7953"
             ],
             [
              0.7777777777777778,
              "#fb9f3a"
             ],
             [
              0.8888888888888888,
              "#fdca26"
             ],
             [
              1,
              "#f0f921"
             ]
            ],
            "type": "histogram2d"
           }
          ],
          "histogram2dcontour": [
           {
            "colorbar": {
             "outlinewidth": 0,
             "ticks": ""
            },
            "colorscale": [
             [
              0,
              "#0d0887"
             ],
             [
              0.1111111111111111,
              "#46039f"
             ],
             [
              0.2222222222222222,
              "#7201a8"
             ],
             [
              0.3333333333333333,
              "#9c179e"
             ],
             [
              0.4444444444444444,
              "#bd3786"
             ],
             [
              0.5555555555555556,
              "#d8576b"
             ],
             [
              0.6666666666666666,
              "#ed7953"
             ],
             [
              0.7777777777777778,
              "#fb9f3a"
             ],
             [
              0.8888888888888888,
              "#fdca26"
             ],
             [
              1,
              "#f0f921"
             ]
            ],
            "type": "histogram2dcontour"
           }
          ],
          "mesh3d": [
           {
            "colorbar": {
             "outlinewidth": 0,
             "ticks": ""
            },
            "type": "mesh3d"
           }
          ],
          "parcoords": [
           {
            "line": {
             "colorbar": {
              "outlinewidth": 0,
              "ticks": ""
             }
            },
            "type": "parcoords"
           }
          ],
          "pie": [
           {
            "automargin": true,
            "type": "pie"
           }
          ],
          "scatter": [
           {
            "fillpattern": {
             "fillmode": "overlay",
             "size": 10,
             "solidity": 0.2
            },
            "type": "scatter"
           }
          ],
          "scatter3d": [
           {
            "line": {
             "colorbar": {
              "outlinewidth": 0,
              "ticks": ""
             }
            },
            "marker": {
             "colorbar": {
              "outlinewidth": 0,
              "ticks": ""
             }
            },
            "type": "scatter3d"
           }
          ],
          "scattercarpet": [
           {
            "marker": {
             "colorbar": {
              "outlinewidth": 0,
              "ticks": ""
             }
            },
            "type": "scattercarpet"
           }
          ],
          "scattergeo": [
           {
            "marker": {
             "colorbar": {
              "outlinewidth": 0,
              "ticks": ""
             }
            },
            "type": "scattergeo"
           }
          ],
          "scattergl": [
           {
            "marker": {
             "colorbar": {
              "outlinewidth": 0,
              "ticks": ""
             }
            },
            "type": "scattergl"
           }
          ],
          "scattermap": [
           {
            "marker": {
             "colorbar": {
              "outlinewidth": 0,
              "ticks": ""
             }
            },
            "type": "scattermap"
           }
          ],
          "scattermapbox": [
           {
            "marker": {
             "colorbar": {
              "outlinewidth": 0,
              "ticks": ""
             }
            },
            "type": "scattermapbox"
           }
          ],
          "scatterpolar": [
           {
            "marker": {
             "colorbar": {
              "outlinewidth": 0,
              "ticks": ""
             }
            },
            "type": "scatterpolar"
           }
          ],
          "scatterpolargl": [
           {
            "marker": {
             "colorbar": {
              "outlinewidth": 0,
              "ticks": ""
             }
            },
            "type": "scatterpolargl"
           }
          ],
          "scatterternary": [
           {
            "marker": {
             "colorbar": {
              "outlinewidth": 0,
              "ticks": ""
             }
            },
            "type": "scatterternary"
           }
          ],
          "surface": [
           {
            "colorbar": {
             "outlinewidth": 0,
             "ticks": ""
            },
            "colorscale": [
             [
              0,
              "#0d0887"
             ],
             [
              0.1111111111111111,
              "#46039f"
             ],
             [
              0.2222222222222222,
              "#7201a8"
             ],
             [
              0.3333333333333333,
              "#9c179e"
             ],
             [
              0.4444444444444444,
              "#bd3786"
             ],
             [
              0.5555555555555556,
              "#d8576b"
             ],
             [
              0.6666666666666666,
              "#ed7953"
             ],
             [
              0.7777777777777778,
              "#fb9f3a"
             ],
             [
              0.8888888888888888,
              "#fdca26"
             ],
             [
              1,
              "#f0f921"
             ]
            ],
            "type": "surface"
           }
          ],
          "table": [
           {
            "cells": {
             "fill": {
              "color": "#EBF0F8"
             },
             "line": {
              "color": "white"
             }
            },
            "header": {
             "fill": {
              "color": "#C8D4E3"
             },
             "line": {
              "color": "white"
             }
            },
            "type": "table"
           }
          ]
         },
         "layout": {
          "annotationdefaults": {
           "arrowcolor": "#2a3f5f",
           "arrowhead": 0,
           "arrowwidth": 1
          },
          "autotypenumbers": "strict",
          "coloraxis": {
           "colorbar": {
            "outlinewidth": 0,
            "ticks": ""
           }
          },
          "colorscale": {
           "diverging": [
            [
             0,
             "#8e0152"
            ],
            [
             0.1,
             "#c51b7d"
            ],
            [
             0.2,
             "#de77ae"
            ],
            [
             0.3,
             "#f1b6da"
            ],
            [
             0.4,
             "#fde0ef"
            ],
            [
             0.5,
             "#f7f7f7"
            ],
            [
             0.6,
             "#e6f5d0"
            ],
            [
             0.7,
             "#b8e186"
            ],
            [
             0.8,
             "#7fbc41"
            ],
            [
             0.9,
             "#4d9221"
            ],
            [
             1,
             "#276419"
            ]
           ],
           "sequential": [
            [
             0,
             "#0d0887"
            ],
            [
             0.1111111111111111,
             "#46039f"
            ],
            [
             0.2222222222222222,
             "#7201a8"
            ],
            [
             0.3333333333333333,
             "#9c179e"
            ],
            [
             0.4444444444444444,
             "#bd3786"
            ],
            [
             0.5555555555555556,
             "#d8576b"
            ],
            [
             0.6666666666666666,
             "#ed7953"
            ],
            [
             0.7777777777777778,
             "#fb9f3a"
            ],
            [
             0.8888888888888888,
             "#fdca26"
            ],
            [
             1,
             "#f0f921"
            ]
           ],
           "sequentialminus": [
            [
             0,
             "#0d0887"
            ],
            [
             0.1111111111111111,
             "#46039f"
            ],
            [
             0.2222222222222222,
             "#7201a8"
            ],
            [
             0.3333333333333333,
             "#9c179e"
            ],
            [
             0.4444444444444444,
             "#bd3786"
            ],
            [
             0.5555555555555556,
             "#d8576b"
            ],
            [
             0.6666666666666666,
             "#ed7953"
            ],
            [
             0.7777777777777778,
             "#fb9f3a"
            ],
            [
             0.8888888888888888,
             "#fdca26"
            ],
            [
             1,
             "#f0f921"
            ]
           ]
          },
          "colorway": [
           "#636efa",
           "#EF553B",
           "#00cc96",
           "#ab63fa",
           "#FFA15A",
           "#19d3f3",
           "#FF6692",
           "#B6E880",
           "#FF97FF",
           "#FECB52"
          ],
          "font": {
           "color": "#2a3f5f"
          },
          "geo": {
           "bgcolor": "white",
           "lakecolor": "white",
           "landcolor": "#E5ECF6",
           "showlakes": true,
           "showland": true,
           "subunitcolor": "white"
          },
          "hoverlabel": {
           "align": "left"
          },
          "hovermode": "closest",
          "mapbox": {
           "style": "light"
          },
          "paper_bgcolor": "white",
          "plot_bgcolor": "#E5ECF6",
          "polar": {
           "angularaxis": {
            "gridcolor": "white",
            "linecolor": "white",
            "ticks": ""
           },
           "bgcolor": "#E5ECF6",
           "radialaxis": {
            "gridcolor": "white",
            "linecolor": "white",
            "ticks": ""
           }
          },
          "scene": {
           "xaxis": {
            "backgroundcolor": "#E5ECF6",
            "gridcolor": "white",
            "gridwidth": 2,
            "linecolor": "white",
            "showbackground": true,
            "ticks": "",
            "zerolinecolor": "white"
           },
           "yaxis": {
            "backgroundcolor": "#E5ECF6",
            "gridcolor": "white",
            "gridwidth": 2,
            "linecolor": "white",
            "showbackground": true,
            "ticks": "",
            "zerolinecolor": "white"
           },
           "zaxis": {
            "backgroundcolor": "#E5ECF6",
            "gridcolor": "white",
            "gridwidth": 2,
            "linecolor": "white",
            "showbackground": true,
            "ticks": "",
            "zerolinecolor": "white"
           }
          },
          "shapedefaults": {
           "line": {
            "color": "#2a3f5f"
           }
          },
          "ternary": {
           "aaxis": {
            "gridcolor": "white",
            "linecolor": "white",
            "ticks": ""
           },
           "baxis": {
            "gridcolor": "white",
            "linecolor": "white",
            "ticks": ""
           },
           "bgcolor": "#E5ECF6",
           "caxis": {
            "gridcolor": "white",
            "linecolor": "white",
            "ticks": ""
           }
          },
          "title": {
           "x": 0.05
          },
          "xaxis": {
           "automargin": true,
           "gridcolor": "white",
           "linecolor": "white",
           "ticks": "",
           "title": {
            "standoff": 15
           },
           "zerolinecolor": "white",
           "zerolinewidth": 2
          },
          "yaxis": {
           "automargin": true,
           "gridcolor": "white",
           "linecolor": "white",
           "ticks": "",
           "title": {
            "standoff": 15
           },
           "zerolinecolor": "white",
           "zerolinewidth": 2
          }
         }
        },
        "title": {
         "text": "🚌 Kigali Transport Analytics Dashboard"
        },
        "xaxis": {
         "anchor": "y",
         "domain": [
          0.55,
          1
         ]
        },
        "xaxis2": {
         "anchor": "y2",
         "domain": [
          0,
          0.45
         ]
        },
        "xaxis3": {
         "anchor": "y3",
         "domain": [
          0.55,
          1
         ]
        },
        "yaxis": {
         "anchor": "x",
         "domain": [
          0.625,
          1
         ]
        },
        "yaxis2": {
         "anchor": "x2",
         "domain": [
          0,
          0.375
         ]
        },
        "yaxis3": {
         "anchor": "x3",
         "domain": [
          0,
          0.375
         ]
        }
       }
      },
      "image/png": "[encoded data removed]"
     },
     "metadata": {},
     "output_type": "display_data"
    }
   ],
   "source": [
    "# =============================================================================\n",
    "# STEP 10: ADVANCED VISUALIZATIONS AND INSIGHTS\n",
    "# =============================================================================\n",
    "\n",
    "print(\"\\n📊 CREATING ADVANCED VISUALIZATIONS...\")\n",
    "\n",
    "# Create comprehensive dashboard\n",
    "fig = make_subplots(\n",
    "    rows=2, cols=2,\n",
    "    subplot_titles=('🗺️ Regional Distribution', '⏰ Peak Operations', \n",
    "                    '🚌 Transport Modes', '📊 Operator Performance'),\n",
    "    specs=[[{\"type\": \"pie\"}, {\"type\": \"bar\"}],\n",
    "           [{\"type\": \"bar\"}, {\"type\": \"scatter\"}]]\n",
    ")\n",
    "\n",
    "# Regional pie chart\n",
    "region_counts = df['REGIONS'].value_counts()\n",
    "fig.add_trace(go.Pie(labels=region_counts.index, values=region_counts.values, name=\"Regions\"), row=1, col=1)\n",
    "\n",
    "# Peak operations bar chart\n",
    "peak_comparison = pd.DataFrame({\n",
    "    'Morning': df['MORNING_PEAK'].value_counts(),\n",
    "    'Afternoon': df['AFTERNOON_PEAK'].value_counts()\n",
    "})\n",
    "for i, (period, data) in enumerate(peak_comparison.items()):\n",
    "    fig.add_trace(go.Bar(x=data.index, y=data.values, name=f\"{period} Peak\", \n",
    "                         marker_color=['lightblue', 'darkblue'][i]), row=1, col=2)\n",
    "\n",
    "# Transport modes\n",
    "transport_counts = df['TRANSPORT_MODE'].value_counts()\n",
    "fig.add_trace(go.Bar(x=transport_counts.index, y=transport_counts.values, \n",
    "                     name=\"Transport Modes\", marker_color='green'), row=2, col=1)\n",
    "\n",
    "# Scatter plot (if coordinates available)\n",
    "if 'LATITUDE' in df.columns and 'LONGITUDE' in df.columns:\n",
    "    fig.add_trace(go.Scatter(x=df['LONGITUDE'], y=df['LATITUDE'], \n",
    "                             mode='markers', name=\"Operator Locations\",\n",
    "                             marker=dict(size=8, color='red', opacity=0.7)), row=2, col=2)\n",
    "\n",
    "fig.update_layout(height=800, showlegend=True, \n",
    "                  title_text=\"🚌 Kigali Transport Analytics Dashboard\")\n",
    "fig.show()"
   ]
  },
  {
   "cell_type": "code",
   "execution_count": 12,
   "id": "f5ceb3c0-2332-4d06-b570-61f02204f68c",
   "metadata": {},
   "outputs": [
    {
     "name": "stdout",
     "output_type": "stream",
     "text": [
      "\n",
      "============================================================\n",
      "💡 KEY INSIGHTS AND RECOMMENDATIONS\n",
      "============================================================\n",
      "🔍 KEY FINDINGS:\n",
      "--------------------\n",
      "📊 Total Operators Analyzed: 30\n",
      "🗺️ Dominant Operating Region: Gasabo\n",
      "🚗 Most Common Operator Type: Taxi\n",
      "🚌 Primary Transport Mode: Mini Bus\n",
      "🌅 Morning Peak Coverage: 40.0%\n",
      "🌆 Afternoon Peak Coverage: 50.0%\n",
      "\n",
      "💡 STRATEGIC RECOMMENDATIONS:\n",
      "-----------------------------------\n",
      "1. 🎯 ROUTE OPTIMIZATION:\n",
      "   • Focus expansion in underserved regions\n",
      "   • Improve coverage in low-density areas\n",
      "\n",
      "2. ⏰ PEAK TIME MANAGEMENT:\n",
      "   • Increase fleet during high-demand periods\n",
      "   • Implement dynamic pricing strategies\n",
      "\n",
      "3. 🚌 SERVICE DIVERSIFICATION:\n",
      "   • Balance operator types across regions\n",
      "   • Promote eco-friendly transport options\n",
      "\n",
      "4. 📱 DIGITAL TRANSFORMATION:\n",
      "   • Implement real-time tracking systems\n",
      "   • Develop mobile booking platforms\n",
      "\n",
      "5. 📊 DATA-DRIVEN DECISIONS:\n",
      "   • Regular monitoring of operator performance\n",
      "   • Use predictive analytics for demand forecasting\n"
     ]
    }
   ],
   "source": [
    "# =============================================================================\n",
    "# STEP 11: RECOMMENDATIONS AND INSIGHTS\n",
    "# =============================================================================\n",
    "\n",
    "print(\"\\n\" + \"=\" * 60)\n",
    "print(\"💡 KEY INSIGHTS AND RECOMMENDATIONS\")\n",
    "print(\"=\" * 60)\n",
    "\n",
    "# Generate insights based on analysis\n",
    "total_operators = len(df)\n",
    "dominant_region = df['REGIONS'].mode().iloc[0]\n",
    "dominant_operator_type = df['OPERATOR_TYPE'].mode().iloc[0]\n",
    "dominant_transport_mode = df['TRANSPORT_MODE'].mode().iloc[0]\n",
    "\n",
    "morning_peak_pct = (df['MORNING_PEAK'] == 'Yes').mean() * 100\n",
    "afternoon_peak_pct = (df['AFTERNOON_PEAK'] == 'Yes').mean() * 100\n",
    "\n",
    "print(\"🔍 KEY FINDINGS:\")\n",
    "print(\"-\" * 20)\n",
    "print(f\"📊 Total Operators Analyzed: {total_operators}\")\n",
    "print(f\"🗺️ Dominant Operating Region: {dominant_region}\")\n",
    "print(f\"🚗 Most Common Operator Type: {dominant_operator_type}\")\n",
    "print(f\"🚌 Primary Transport Mode: {dominant_transport_mode}\")\n",
    "print(f\"🌅 Morning Peak Coverage: {morning_peak_pct:.1f}%\")\n",
    "print(f\"🌆 Afternoon Peak Coverage: {afternoon_peak_pct:.1f}%\")\n",
    "\n",
    "print(\"\\n💡 STRATEGIC RECOMMENDATIONS:\")\n",
    "print(\"-\" * 35)\n",
    "print(\"1. 🎯 ROUTE OPTIMIZATION:\")\n",
    "print(\"   • Focus expansion in underserved regions\")\n",
    "print(\"   • Improve coverage in low-density areas\")\n",
    "\n",
    "print(\"\\n2. ⏰ PEAK TIME MANAGEMENT:\")\n",
    "print(\"   • Increase fleet during high-demand periods\")\n",
    "print(\"   • Implement dynamic pricing strategies\")\n",
    "\n",
    "print(\"\\n3. 🚌 SERVICE DIVERSIFICATION:\")\n",
    "print(\"   • Balance operator types across regions\")\n",
    "print(\"   • Promote eco-friendly transport options\")\n",
    "\n",
    "print(\"\\n4. 📱 DIGITAL TRANSFORMATION:\")\n",
    "print(\"   • Implement real-time tracking systems\")\n",
    "print(\"   • Develop mobile booking platforms\")\n",
    "\n",
    "print(\"\\n5. 📊 DATA-DRIVEN DECISIONS:\")\n",
    "print(\"   • Regular monitoring of operator performance\")\n",
    "print(\"   • Use predictive analytics for demand forecasting\")\n"
   ]
  },
  {
   "cell_type": "code",
   "execution_count": 13,
   "id": "ce8f9f59-21c6-4631-ab6f-278efbb5a30f",
   "metadata": {},
   "outputs": [],
   "source": [
    "from datetime import datetime\n",
    "\n",
    "# Add today's date to all rows\n",
    "df['DATE_ADDED'] = datetime.today().date()\n"
   ]
  },
  {
   "cell_type": "code",
   "execution_count": 14,
   "id": "1bdd636c-a910-4ce7-8b32-12bdaaf10b3b",
   "metadata": {},
   "outputs": [
    {
     "name": "stdout",
     "output_type": "stream",
     "text": [
      "\n",
      "============================================================\n",
      "📋 PROJECT CONCLUSION\n",
      "============================================================\n",
      "\n",
      "🚌 KIGALI SMART TRANSPORT INSIGHTS PROJECT SUMMARY:\n",
      "\n",
      "This comprehensive analysis of Kigali's public transport operators has revealed \n",
      "critical insights for urban mobility optimization. Through advanced data analytics \n",
      "and machine learning techniques, we have:\n",
      "\n",
      "✅ ACHIEVEMENTS:\n",
      "• Analyzed transport operator distribution across Kigali regions\n",
      "• Identified peak operation patterns and service gaps  \n",
      "• Applied machine learning for operator clustering and classification\n",
      "• Created interactive visualizations for geographic insights\n",
      "• Generated actionable recommendations for transport optimization\n",
      "\n",
      "🎯 KEY OUTCOMES:\n",
      "• Data-driven understanding of current transport landscape\n",
      "• Identification of underserved areas requiring attention\n",
      "• Predictive models for operator type classification\n",
      "• Geographic clustering revealing service concentration patterns\n",
      "• Strategic recommendations for policy makers and operators\n",
      "\n",
      "🚀 FUTURE APPLICATIONS:\n",
      "• Real-time transport monitoring dashboard\n",
      "• Demand prediction and route optimization\n",
      "• Performance-based operator licensing\n",
      "• Citizen-centric service improvements\n",
      "• Evidence-based transport policy development\n",
      "\n",
      "This analysis provides RURA and Kigali City authorities with the foundation \n",
      "for data-driven transport management and strategic planning decisions.\n",
      "\n",
      "============================================================\n",
      "🏁 END OF ANALYSIS\n",
      "============================================================\n"
     ]
    }
   ],
   "source": [
    "# =============================================================================\n",
    "# CONCLUSION\n",
    "# =============================================================================\n",
    "\n",
    "print(\"\\n\" + \"=\" * 60)\n",
    "print(\"📋 PROJECT CONCLUSION\")\n",
    "print(\"=\" * 60)\n",
    "\n",
    "conclusion_text = \"\"\"\n",
    "🚌 KIGALI SMART TRANSPORT INSIGHTS PROJECT SUMMARY:\n",
    "\n",
    "This comprehensive analysis of Kigali's public transport operators has revealed \n",
    "critical insights for urban mobility optimization. Through advanced data analytics \n",
    "and machine learning techniques, we have:\n",
    "\n",
    "✅ ACHIEVEMENTS:\n",
    "• Analyzed transport operator distribution across Kigali regions\n",
    "• Identified peak operation patterns and service gaps  \n",
    "• Applied machine learning for operator clustering and classification\n",
    "• Created interactive visualizations for geographic insights\n",
    "• Generated actionable recommendations for transport optimization\n",
    "\n",
    "🎯 KEY OUTCOMES:\n",
    "• Data-driven understanding of current transport landscape\n",
    "• Identification of underserved areas requiring attention\n",
    "• Predictive models for operator type classification\n",
    "• Geographic clustering revealing service concentration patterns\n",
    "• Strategic recommendations for policy makers and operators\n",
    "\n",
    "🚀 FUTURE APPLICATIONS:\n",
    "• Real-time transport monitoring dashboard\n",
    "• Demand prediction and route optimization\n",
    "• Performance-based operator licensing\n",
    "• Citizen-centric service improvements\n",
    "• Evidence-based transport policy development\n",
    "\n",
    "This analysis provides RURA and Kigali City authorities with the foundation \n",
    "for data-driven transport management and strategic planning decisions.\n",
    "\"\"\"\n",
    "\n",
    "print(conclusion_text)\n",
    "print(\"=\" * 60)\n",
    "print(\"🏁 END OF ANALYSIS\")\n",
    "print(\"=\" * 60)"
   ]
  },
  {
   "cell_type": "code",
   "execution_count": 3,
   "id": "03b4f616-5d2e-42f9-a431-4508e1062cb0",
   "metadata": {},
   "outputs": [],
   "source": [
    "import pandas as pd\n",
    "\n",
    "# Load the dataset\n",
    "df = pd.read_csv('merged_transport_data_rwanda(1).csv')"
   ]
  },
  {
   "cell_type": "code",
   "execution_count": 5,
   "id": "be3d49dc-80dd-45be-b613-a9f9baec6239",
   "metadata": {},
   "outputs": [
    {
     "name": "stdout",
     "output_type": "stream",
     "text": [
      "\n",
      "📁 PREPARING DATA FOR POWER BI ANALYSIS...\n",
      "⚠️ Cluster information not available - exporting base data\n",
      "✅ Main dataset exported\n",
      "✅ Summary statistics exported\n",
      "\n",
      "============================================================\n",
      "NOTE: Exported without cluster analysis results\n",
      "For complete data, run all analysis steps first\n",
      "============================================================\n"
     ]
    }
   ],
   "source": [
    "import pandas as pd\n",
    "\n",
    "# Load the dataset\n",
    "df = pd.read_csv('merged_transport_data_rwanda(1).csv')\n",
    "\n",
    "print(\"\\n📁 PREPARING DATA FOR POWER BI ANALYSIS...\")\n",
    "\n",
    "# Create export DataFrame\n",
    "export_df = df.copy()\n",
    "\n",
    "# Skip cluster merge since we don't have ml_df\n",
    "print(\"⚠️ Cluster information not available - exporting base data\")\n",
    "\n",
    "# Add calculated fields\n",
    "export_df['PEAK_OPERATIONS_COUNT'] = (\n",
    "    (export_df['MORNING_PEAK'] == 'Yes').astype(int) + \n",
    "    (export_df['AFTERNOON_PEAK'] == 'Yes').astype(int)\n",
    ")\n",
    "\n",
    "export_df['REGION_OPERATOR_COUNT'] = export_df.groupby('REGIONS')['REGIONS'].transform('count')\n",
    "export_df['TYPE_OPERATOR_COUNT'] = export_df.groupby('OPERATOR_TYPE')['OPERATOR_TYPE'].transform('count')\n",
    "\n",
    "# Export files\n",
    "export_df.to_csv('kigali_transport_analysis_results.csv', index=False)\n",
    "print(\"✅ Main dataset exported\")\n",
    "\n",
    "summary_stats = pd.DataFrame({\n",
    "    'Metric': ['Total Operators', 'Unique Regions', 'Operator Types',\n",
    "               'Morning Peak Operators', 'Afternoon Peak Operators'],\n",
    "    'Value': [len(df), df['REGIONS'].nunique(), df['OPERATOR_TYPE'].nunique(),\n",
    "              (df['MORNING_PEAK'] == 'Yes').sum(), \n",
    "              (df['AFTERNOON_PEAK'] == 'Yes').sum()]\n",
    "})\n",
    "summary_stats.to_csv('kigali_transport_summary_stats.csv', index=False)\n",
    "print(\"✅ Summary statistics exported\")\n",
    "\n",
    "print(\"\\n\" + \"=\"*60)\n",
    "print(\"NOTE: Exported without cluster analysis results\")\n",
    "print(\"For complete data, run all analysis steps first\")\n",
    "print(\"=\"*60)"
   ]
  },
  {
   "cell_type": "code",
   "execution_count": 6,
   "id": "12c956c2-023b-4ef5-a725-bb37815c25c7",
   "metadata": {},
   "outputs": [
    {
     "name": "stdout",
     "output_type": "stream",
     "text": [
      "Main export shape: (30, 23)\n",
      "Columns: ['REFERENCE_ID', 'OPERATOR_NAME', 'OPERATOR_PHONE', 'EMAIL', 'WEBSITE', 'ADDRESS', 'REGIONS', 'OPERATING_AREA', 'OPERATOR_TYPE', 'LOCATION_NAME', 'TSN', 'LATITUDE', 'LONGITUDE', 'EFA_ID', 'FACILITIES', 'ACCESSIBILITY', 'TRANSPORT_MODE', 'MORNING_PEAK', 'AFTERNOON_PEAK', 'SHORT_PLATFORM', 'PEAK_OPERATIONS_COUNT', 'REGION_OPERATOR_COUNT', 'TYPE_OPERATOR_COUNT']\n",
      "\n",
      "Summary Stats:\n",
      "                     Metric  Value\n",
      "0           Total Operators     30\n",
      "1            Unique Regions      3\n",
      "2            Operator Types      5\n",
      "3    Morning Peak Operators     12\n",
      "4  Afternoon Peak Operators     15\n"
     ]
    }
   ],
   "source": [
    "import pandas as pd\n",
    "\n",
    "# Check main export\n",
    "main_data = pd.read_csv('kigali_transport_analysis_results.csv')\n",
    "print(f\"Main export shape: {main_data.shape}\")\n",
    "print(\"Columns:\", main_data.columns.tolist())\n",
    "\n",
    "# Check summary stats\n",
    "summary = pd.read_csv('kigali_transport_summary_stats.csv')\n",
    "print(\"\\nSummary Stats:\")\n",
    "print(summary)"
   ]
  },
  {
   "cell_type": "code",
   "execution_count": null,
   "id": "2035ca63-4b09-45f0-ab19-7480c740a649",
   "metadata": {},
   "outputs": [],
   "source": []
  }
 ],
 "metadata": {
  "kernelspec": {
   "display_name": "Python 3 (ipykernel)",
   "language": "python",
   "name": "python3"
  },
  "language_info": {
   "codemirror_mode": {
    "name": "ipython",
    "version": 3
   },
   "file_extension": ".py",
   "mimetype": "text/x-python",
   "name": "python",
   "nbconvert_exporter": "python",
   "pygments_lexer": "ipython3",
   "version": "3.13.5"
  }
 },
 "nbformat": 4,
 "nbformat_minor": 5
}
